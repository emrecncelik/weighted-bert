{
 "cells": [
  {
   "cell_type": "code",
   "execution_count": 1,
   "metadata": {},
   "outputs": [],
   "source": [
    "import logging\n",
    "import numpy as np\n",
    "from sentence_transformers import SentenceTransformer\n",
    "from weighted_bert.models import WeightedAverage, WeightedRemoval\n",
    "\n",
    "logging.basicConfig(level=\"INFO\")\n",
    "\n",
    "%load_ext autoreload\n",
    "%autoreload 2"
   ]
  },
  {
   "cell_type": "markdown",
   "metadata": {},
   "source": [
    "# Example use"
   ]
  },
  {
   "cell_type": "code",
   "execution_count": 2,
   "metadata": {},
   "outputs": [],
   "source": [
    "weighting_checkpoint = \"savasy/bert-base-turkish-ner-cased\"\n",
    "embedding_checkpoint = \"sentence-transformers/distiluse-base-multilingual-cased-v1\"\n",
    "\n",
    "documents = [\n",
    "[\n",
    "    \"Tesla'nın otomobilleri insan hayatlarını riske atıyor olabilir.\",\n",
    "    \"Türkiye ve Kore arasında gerçekleşen voleybol müsabakasını Türkiye Milli Takımı kazandı.\",\n",
    "    \"Bu bir metin.\",\n",
    "],\n",
    "[\n",
    "    \"Mustafa Kemal Atatürk 19 Mayıs 1919'da Samsun'a ayak bastı.\",\n",
    "    \"Bu bir metin.\",\n",
    "],\n",
    "]"
   ]
  },
  {
   "cell_type": "code",
   "execution_count": 3,
   "metadata": {},
   "outputs": [
    {
     "name": "stderr",
     "output_type": "stream",
     "text": [
      "INFO:sentence_transformers.SentenceTransformer:Load pretrained SentenceTransformer: sentence-transformers/distiluse-base-multilingual-cased-v1\n",
      "INFO:sentence_transformers.SentenceTransformer:Use pytorch device: cuda\n",
      "INFO:weighted_bert.models:================ Loading weighting model ================\n",
      "INFO:weighted_bert.models:\tsavasy/bert-base-turkish-ner-cased\n",
      "/home/emrecan/workspace/weighted_bert/venv/lib/python3.8/site-packages/transformers/pipelines/token_classification.py:128: UserWarning: `grouped_entities` is deprecated and will be removed in version v5.0.0, defaulted to `aggregation_strategy=\"AggregationStrategy.SIMPLE\"` instead.\n",
      "  warnings.warn(\n",
      "INFO:weighted_bert.models:================ Loading weighting model ================\n",
      "INFO:weighted_bert.models:\tsavasy/bert-base-turkish-ner-cased\n"
     ]
    }
   ],
   "source": [
    "# Initialize models\n",
    "embedding_model = SentenceTransformer(embedding_checkpoint)\n",
    "weighter_a = WeightedAverage(weighting_checkpoint)\n",
    "weighter_r = WeightedRemoval(weighting_checkpoint)"
   ]
  },
  {
   "cell_type": "code",
   "execution_count": 4,
   "metadata": {},
   "outputs": [
    {
     "name": "stderr",
     "output_type": "stream",
     "text": [
      "Batches: 100%|██████████| 1/1 [00:00<00:00, 50.04it/s]\n",
      "Batches: 100%|██████████| 1/1 [00:00<00:00, 94.74it/s]\n",
      "/home/emrecan/workspace/weighted_bert/venv/lib/python3.8/site-packages/torch/utils/data/dataloader.py:478: UserWarning: This DataLoader will create 8 worker processes in total. Our suggested max number of worker in current system is 4, which is smaller than what this DataLoader is going to create. Please be aware that excessive worker creation might get DataLoader running slow or even freeze, lower the worker number to avoid potential slowness/freeze if necessary.\n",
      "  warnings.warn(_create_warning_msg(\n",
      "INFO:weighted_bert.models:================ Detecting entities ================\n",
      "INFO:weighted_bert.models:================ Calculating initial document embeddings ================\n",
      "INFO:weighted_bert.models:================ Correcting document embeddings ================\n",
      "INFO:weighted_bert.models:\tCalculating first singular vector...\n",
      "INFO:weighted_bert.models:\tCalculating corrected embeddings...\n"
     ]
    }
   ],
   "source": [
    "# Calculate embeddings\n",
    "collection_sentence_embeddings = [embedding_model.encode(doc) for doc in documents]\n",
    "embeddings_a = np.array([weighter_a.get_document_embedding(doc, sentence_emb)\n",
    "                for doc, sentence_emb in zip(documents, collection_sentence_embeddings)])\n",
    "embeddings_r = weighter_r.get_document_embeddings(documents, collection_sentence_embeddings)"
   ]
  },
  {
   "cell_type": "code",
   "execution_count": 5,
   "metadata": {},
   "outputs": [
    {
     "data": {
      "text/plain": [
       "(2, 512)"
      ]
     },
     "execution_count": 5,
     "metadata": {},
     "output_type": "execute_result"
    }
   ],
   "source": [
    "embeddings_a.shape"
   ]
  },
  {
   "cell_type": "code",
   "execution_count": 6,
   "metadata": {},
   "outputs": [
    {
     "data": {
      "text/plain": [
       "(2, 512)"
      ]
     },
     "execution_count": 6,
     "metadata": {},
     "output_type": "execute_result"
    }
   ],
   "source": [
    "embeddings_r.shape"
   ]
  }
 ],
 "metadata": {
  "interpreter": {
   "hash": "83bf2d3bd26546d38523b2bf511d3591181790cbdbf44d7b124f51cd603b50a8"
  },
  "kernelspec": {
   "display_name": "Python 3.8.10 64-bit ('venv': venv)",
   "language": "python",
   "name": "python3"
  },
  "language_info": {
   "codemirror_mode": {
    "name": "ipython",
    "version": 3
   },
   "file_extension": ".py",
   "mimetype": "text/x-python",
   "name": "python",
   "nbconvert_exporter": "python",
   "pygments_lexer": "ipython3",
   "version": "3.8.10"
  },
  "orig_nbformat": 4
 },
 "nbformat": 4,
 "nbformat_minor": 2
}
